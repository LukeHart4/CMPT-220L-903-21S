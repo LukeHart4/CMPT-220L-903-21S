{
 "cells": [
  {
   "cell_type": "markdown",
   "metadata": {},
   "source": [
    "# Lab One\n",
    "---\n",
    "\n",
    "Ok for this lab we're going to reiterate a lot of the things that we went over in class.\n",
    "\n",
    "Our Goals are:\n",
    "- Binary Math\n",
    "- Defining Variables\n",
    "    - Primitive Types\n",
    "    - Reference Types\n",
    "- Using Math\n",
    "- Manipulating Variables"
   ]
  },
  {
   "cell_type": "markdown",
   "metadata": {},
   "source": [
    "For this section I just want you to type the answer. I know that you can just look this up but try and do the math. \n",
    "### What is 1000 in Decimal\n",
    "8\n",
    "\n",
    "### What is 1000 1001 in Decimal (This is a byte. It's just split for readability)\n",
    "137\n",
    "\n",
    "### What is 1010 1111 in Decimal (This is a byte. It's just split for readability)\n",
    "175\n",
    "\n",
    "### What is 0101 1010 in Decimal (This is a byte. It's just split for readability)\n",
    "90"
   ]
  },
  {
   "cell_type": "code",
   "execution_count": 16,
   "metadata": {},
   "outputs": [
    {
     "name": "stdout",
     "output_type": "stream",
     "text": [
      "true\n",
      "127\n",
      "32767\n",
      "100\n",
      "16\n",
      "0.1\n",
      "0.321\n",
      "L\n"
     ]
    }
   ],
   "source": [
    "// Define 8 variables, one of each type listed: [boolean, byte, short, int, long, float, double, char]. Print all 8 of them.\n",
    "boolean flag = true;\n",
    "byte sampleByte = 127;\n",
    "short sampleShort = 32767;\n",
    "int number = 100;\n",
    "long sampleLong = 16;\n",
    "float sampleFloat = 0.1f;\n",
    "double sampleDouble = 0.321;\n",
    "char letter = 'L';\n",
    "System.out.println(flag);\n",
    "System.out.println(sampleByte);\n",
    "System.out.println(sampleShort);\n",
    "System.out.println(number);\n",
    "System.out.println(sampleLong);\n",
    "System.out.println(sampleFloat);\n",
    "System.out.println(sampleDouble);\n",
    "System.out.println(letter);"
   ]
  },
  {
   "cell_type": "code",
   "execution_count": 23,
   "metadata": {},
   "outputs": [],
   "source": [
    "// Make me a list of any type\n",
    "int[] numbers = {1, 2, 3, 4, 5};"
   ]
  },
  {
   "cell_type": "code",
   "execution_count": 24,
   "metadata": {},
   "outputs": [
    {
     "name": "stdout",
     "output_type": "stream",
     "text": [
      "3\n",
      "-1\n",
      "3\n",
      "16\n",
      "2\n"
     ]
    }
   ],
   "source": [
    "// With whatever variables you'd like demonstrate the following: [Addition, Subtraction, Division, Multiplication, Modulo]. Print all 5.\n",
    "System.out.println(1 + 2);\n",
    "System.out.println(1 - 2);\n",
    "System.out.println(6 / 2);\n",
    "System.out.println(4 * 4);\n",
    "System.out.println(11 % 3);"
   ]
  },
  {
   "cell_type": "code",
   "execution_count": 26,
   "metadata": {},
   "outputs": [
    {
     "name": "stdout",
     "output_type": "stream",
     "text": [
      "57\n"
     ]
    }
   ],
   "source": [
    "// Using 2 variables and addition print the number 57\n",
    "int number1 = 50;\n",
    "short number2 = 7;\n",
    "System.out.println(number1 + number2);"
   ]
  },
  {
   "cell_type": "code",
   "execution_count": 1,
   "metadata": {},
   "outputs": [
    {
     "name": "stdout",
     "output_type": "stream",
     "text": [
      "hello\n",
      "hello world!\n"
     ]
    }
   ],
   "source": [
    "// Define a variable and print it out. Then alter the same variable and print it out. This can be through string concatenation or addition, etc\n",
    "String first = \"hello\";\n",
    "\n",
    "System.out.println(first);\n",
    "\n",
    "first = first + \" world!\";\n",
    "    \n",
    "System.out.println(first);"
   ]
  },
  {
   "cell_type": "code",
   "execution_count": null,
   "metadata": {},
   "outputs": [],
   "source": []
  }
 ],
 "metadata": {
  "kernelspec": {
   "display_name": "Java",
   "language": "java",
   "name": "java"
  },
  "language_info": {
   "codemirror_mode": "java",
   "file_extension": ".jshell",
   "mimetype": "text/x-java-source",
   "name": "Java",
   "pygments_lexer": "java",
   "version": "15.0.2+7-27"
  }
 },
 "nbformat": 4,
 "nbformat_minor": 4
}