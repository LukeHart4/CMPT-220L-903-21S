{
 "cells": [
  {
   "cell_type": "markdown",
   "metadata": {},
   "source": [
    "# Lab Five\n",
    "---\n",
    "\n",
    "For this lab we're going to be messing around with our Linear Data Types!\n",
    "\n",
    "Our Goals are:\n",
    "- Creating an Array\n",
    "- Creating an ArrayList\n",
    "- Creating an LinkedList\n",
    "- Creating an Queue\n",
    "- Creating an Stack \n",
    "\n",
    "Please show the ability to:\n",
    "- Create these data types\n",
    "- Populate the data types\n",
    "- Print out the Linear Data Types"
   ]
  },
  {
   "cell_type": "code",
   "execution_count": 19,
   "metadata": {},
   "outputs": [
    {
     "name": "stdout",
     "output_type": "stream",
     "text": [
      "Swift\n",
      "Psychic\n",
      "Barrier\n",
      "Recover\n"
     ]
    }
   ],
   "source": [
    "// Create an Array, Populate it, and Print it out\n",
    "\n",
    "String[] mewtwoMoveset = {\"Swift\", \"Psychic\", \"Barrier\", \"Recover\"};\n",
    "\n",
    "for (String move : mewtwoMoveset) {\n",
    "    System.out.println(move);\n",
    "}"
   ]
  },
  {
   "cell_type": "code",
   "execution_count": 20,
   "metadata": {},
   "outputs": [
    {
     "name": "stdout",
     "output_type": "stream",
     "text": [
      "Boulder\n",
      "Cascade\n",
      "Thunder\n",
      "Rainbow\n",
      "Soul\n",
      "Marsh\n",
      "Volcano\n",
      "Earth\n"
     ]
    }
   ],
   "source": [
    "// Create an ArrayList, Populate it, and Print it out\n",
    "\n",
    "ArrayList<String> kantoBadges = new ArrayList<String>(Arrays.asList(\"Boulder\", \"Cascade\"));\n",
    "kantoBadges.add(\"Thunder\");\n",
    "kantoBadges.add(\"Rainbow\");\n",
    "kantoBadges.add(\"Soul\");\n",
    "kantoBadges.add(\"Marsh\");\n",
    "kantoBadges.add(\"Volcano\");\n",
    "kantoBadges.add(\"Earth\");\n",
    "\n",
    "for (int index = 0; index < kantoBadges.size(); index++) {\n",
    "    System.out.println(kantoBadges.get(index));\n",
    "}"
   ]
  },
  {
   "cell_type": "code",
   "execution_count": 21,
   "metadata": {},
   "outputs": [
    {
     "name": "stdout",
     "output_type": "stream",
     "text": [
      "[Dough, Tomato Sauce, Mozzarella Cheese, Pepperoni]\n"
     ]
    }
   ],
   "source": [
    "// Create an LinkedList, Populate it, and Print it out\n",
    "\n",
    "LinkedList<String> pizza = new LinkedList<String>();\n",
    "\n",
    "pizza.add(\"Dough\");\n",
    "pizza.add(\"Tomato Sauce\");\n",
    "pizza.add(\"Mozzarella Cheese\");\n",
    "pizza.add(\"Pepperoni\");\n",
    "\n",
    "System.out.println(pizza);\n"
   ]
  },
  {
   "cell_type": "code",
   "execution_count": 22,
   "metadata": {},
   "outputs": [
    {
     "name": "stdout",
     "output_type": "stream",
     "text": [
      "[Godzilla vs. Kong, Black Widow, Get Out, Big Hero 6, Sinister]\n"
     ]
    }
   ],
   "source": [
    "// Create an Queue, Populate it, and Print it out\n",
    "\n",
    "Queue<String> mondayMovieSchedule = new LinkedList<String>();\n",
    "mondayMovieSchedule.add(\"Godzilla vs. Kong\");\n",
    "mondayMovieSchedule.add(\"Black Widow\");\n",
    "mondayMovieSchedule.add(\"Get Out\");\n",
    "mondayMovieSchedule.add(\"Big Hero 6\");\n",
    "mondayMovieSchedule.add(\"Sinister\");\n",
    "\n",
    "System.out.println(mondayMovieSchedule);"
   ]
  },
  {
   "cell_type": "code",
   "execution_count": 3,
   "metadata": {},
   "outputs": [
    {
     "name": "stdout",
     "output_type": "stream",
     "text": [
      "[one, two, three]\n"
     ]
    }
   ],
   "source": [
    "// Create an Stack, Populate it, and Print it out\n",
    "\n",
    "Stack<String> numbers = new Stack<String>();\n",
    "\n",
    "numbers.push(\"one\");\n",
    "numbers.push(\"two\");\n",
    "numbers.push(\"three\");\n",
    "\n",
    "System.out.println(numbers);"
   ]
  }
 ],
 "metadata": {
  "kernelspec": {
   "display_name": "Java",
   "language": "java",
   "name": "python391jvsc74a57bd0aee8b7b246df8f9039afb4144a1f6fd8d2ca17a180786b69acc140d282b71a49"
  },
  "language_info": {
   "codemirror_mode": "java",
   "file_extension": ".jshell",
   "mimetype": "text/x-java-source",
   "name": "Java",
   "pygments_lexer": "java",
   "version": "15.0.2+7-27"
  },
  "orig_nbformat": 2
 },
 "nbformat": 4,
 "nbformat_minor": 2
}