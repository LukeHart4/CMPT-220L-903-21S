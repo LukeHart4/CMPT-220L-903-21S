{
 "cells": [
  {
   "cell_type": "markdown",
   "metadata": {},
   "source": [
    "# Lab Three\n",
    "---\n",
    "\n",
    "For this lab we're going to be making and using a bunch of functions. \n",
    "\n",
    "Our Goals are:\n",
    "- Switch Case\n",
    "- Looping\n",
    "- Making our own functions\n",
    "- Combining functions\n",
    "- Structuring solutions"
   ]
  },
  {
   "cell_type": "code",
   "execution_count": 6,
   "metadata": {},
   "outputs": [
    {
     "name": "stdout",
     "output_type": "stream",
     "text": [
      "Cyndaquil is the best starter in gen 2.\n"
     ]
    }
   ],
   "source": [
    "// Give me an example of you using switch case.\n",
    "\n",
    "String starter = \"Cyndaquil\";\n",
    "\n",
    "switch(starter){\n",
    "    case \"Cyndaquil\":\n",
    "        System.out.println(\"Cyndaquil is the best starter in gen 2.\");\n",
    "        break;\n",
    "    case \"Chikorita\":\n",
    "        System.out.println(\"Chikorita and its evolutions have awesome designs but isn't very strong.\");\n",
    "        break;    \n",
    "    case \"Totodile\":\n",
    "        System.out.println(\"Totodile make pokemon Gold / Silver super easy to beat.\");\n",
    "        break;\n",
    "    default:\n",
    "        System.out.println(\"Not into gen 2 pokemon huh?\");\n",
    "}"
   ]
  },
  {
   "cell_type": "code",
   "execution_count": 8,
   "metadata": {},
   "outputs": [
    {
     "name": "stdout",
     "output_type": "stream",
     "text": [
      "The sytsem is printing out: 0\n",
      "The sytsem is printing out: 1\n",
      "The sytsem is printing out: 2\n",
      "The sytsem is printing out: 3\n",
      "The sytsem is printing out: 4\n",
      "The sytsem is printing out: 5\n"
     ]
    }
   ],
   "source": [
    "// Give me an example of you using a for loop\n",
    "\n",
    "for (int x = 0; x < 6; x++) {\n",
    "    System.out.println(\"The sytsem is printing out: \" + x);\n",
    "}"
   ]
  },
  {
   "cell_type": "code",
   "execution_count": 11,
   "metadata": {},
   "outputs": [
    {
     "name": "stdout",
     "output_type": "stream",
     "text": [
      "1\n",
      "2\n",
      "3\n"
     ]
    }
   ],
   "source": [
    "// Give me an example of you using a for each loop (create a list)\n",
    "\n",
    "int[] Integers = {1, 2, 3};\n",
    "\n",
    "for (int number: Integers) {\n",
    "    System.out.println(number);\n",
    "}"
   ]
  },
  {
   "cell_type": "code",
   "execution_count": 33,
   "metadata": {},
   "outputs": [
    {
     "name": "stdout",
     "output_type": "stream",
     "text": [
      "6\n",
      "7\n",
      "8\n",
      "9\n"
     ]
    }
   ],
   "source": [
    "// Give me an example of you using a while loop\n",
    "\n",
    "int x = 6;\n",
    "while (x <= 9) {\n",
    "    System.out.println(x);\n",
    "    x++;\n",
    "}"
   ]
  },
  {
   "cell_type": "code",
   "execution_count": 1,
   "metadata": {},
   "outputs": [
    {
     "name": "stdout",
     "output_type": "stream",
     "text": [
      "8.0\n"
     ]
    }
   ],
   "source": [
    "// I want you to write a function that will take in a number and raise it to the power given. \n",
    "\n",
    "// For example if given the numbers 2 and 3. The math that the function should do is 2^3 and should print out or return 8. Print the output.\n",
<<<<<<< HEAD
    "\n",
    "double power(int base, int exponent) {\n",
    "    return Math.pow(base, exponent);\n",
    "}\n",
    "double output = power(2, 3);\n",
    "System.out.println(output)\n"
<<<<<<< HEAD
<<<<<<< HEAD
=======
    "\n"
>>>>>>> upstream/main
=======
    "\n"
>>>>>>> parent of c35678d (idk)
=======
=======
    "\n"
>>>>>>> upstream/main
>>>>>>> parent of 8fa7532 (commit)
   ]
  },
  {
   "cell_type": "code",
   "execution_count": 3,
   "metadata": {},
   "outputs": [
    {
     "name": "stdout",
     "output_type": "stream",
     "text": [
      "1 was in the list: 3 times.\n"
     ]
    }
   ],
   "source": [
    "// I want you to write a function that will take in a list and see how many times a given number is in the list. \n",
    "\n",
    "// For example if the array given is [2,3,5,2,3,6,7,8,2] and the number given is 2 the function should print out or return 3. Print the output.\n",
    "\n",
    "int[] list1 = {1, 1, 1, 2, 3, 4, 5, 2};\n",
    "\n",
    "int count = 0;\n",
    "int desired = 1;\n",
    "\n",
    "for (int element : list1) {\n",
    "    if (element == desired) {\n",
    "        count++;\n",
    "    }\n",
    "}\n",
    "\n",
    "System.out.println(desired + \" was in the list: \" + count + \" times.\");"
   ]
  },
  {
   "cell_type": "code",
   "execution_count": 27,
   "metadata": {},
   "outputs": [
    {
     "name": "stdout",
     "output_type": "stream",
     "text": [
      "8.54400374531753"
     ]
    }
   ],
   "source": [
    "// Give me a function that gives the answer to the pythagorean theorem. \n",
    "// I'd like you to reuse the exponent function from above as well as the functions below to make your function.\n",
    "\n",
    "// If you don't remember the pythagorean theorem the formula is (a^2 + b^2 = c^2). Given a and b as parameters i'd like you to return c. \n",
    "// If this doesn't make sense look up `Pythagorean Theorem Formula` on google.\n",
    "\n",
    "int addition(int a, int b) {\n",
    "    int answer = a + b;\n",
    "    return answer;\n",
    "}\n",
    "\n",
    "int division(int a, int b) {\n",
    "    int answer = a / b;\n",
    "    return answer;\n",
    "}\n",
    "\n",
    "double power(int base, int exponent) {\n",
    "    return Math.pow(base, exponent);\n",
    "}\n",
    "\n",
    "double pythag(int a, int b) {\n",
    "    return Math.sqrt(power(a,2) + power(b,2));\n",
    "}\n",
    "\n",
    "System.out.print(pythag(3,8));\n"
   ]
  }
 ],
 "metadata": {
  "kernelspec": {
   "display_name": "Java",
   "language": "java",
   "name": "python391jvsc74a57bd0aee8b7b246df8f9039afb4144a1f6fd8d2ca17a180786b69acc140d282b71a49"
  },
  "language_info": {
   "codemirror_mode": "java",
   "file_extension": ".jshell",
   "mimetype": "text/x-java-source",
   "name": "Java",
   "pygments_lexer": "java",
   "version": "15.0.2+7-27"
  },
  "orig_nbformat": 2
 },
 "nbformat": 4,
 "nbformat_minor": 2
}