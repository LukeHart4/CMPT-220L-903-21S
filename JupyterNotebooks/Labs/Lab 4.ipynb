{
 "cells": [
  {
   "cell_type": "markdown",
   "metadata": {},
   "source": [
    "# Lab Four\n",
    "---\n",
    "\n",
    "For this lab we're going to be messing around with Markdown!\n",
    "\n",
    "Our Goals are:\n",
    "- Using Markdown!\n",
    "\n",
    "I want you to describe to me your process of converting the assignment and making it DRY. \n",
    "\n",
    "Please show the ability to:\n",
    "- Make a header\n",
    "- Make a list (ordered or unordered)\n",
    "- Link the Markdown Guide from the lesson. \n",
    "- Artuculate your thought process."
   ]
  },
  {
   "cell_type": "markdown",
   "metadata": {},
   "source": [
    "# My Thought Process\n",
    "\n",
    "- First I wanted to get rid of some the \"magic numbers\" that were in the original code. To do this I made two new integer variables called \"pretzelPrice\" and \"lemonadePrice\" so I could multiply the number of pretzels or lemonades ordered by their respective price variables.\n",
    "- Next I decided to decided to create a function called \"customer\" that would take three parameters (number of pretzels ordered, number of lemonades ordered, and tips given) and then calculate how each customers order affected the cash on hand, the inventory, and the total tips.\n",
    "- Finally all I had to do was run the \"customer\" function once for each customers order.\n",
    "\n",
    "[Markdown](https://www.markdownguide.org)\n"
   ]
  }
 ],
 "metadata": {
  "kernelspec": {
   "display_name": "Python 3.9.1 64-bit",
   "name": "python391jvsc74a57bd0aee8b7b246df8f9039afb4144a1f6fd8d2ca17a180786b69acc140d282b71a49"
  },
  "language_info": {
   "codemirror_mode": {
    "name": "ipython",
    "version": 3
   },
   "file_extension": ".py",
   "mimetype": "text/x-python",
   "name": "python",
   "nbconvert_exporter": "python",
   "pygments_lexer": "ipython3",
   "version": "3.9.1-final"
  },
  "orig_nbformat": 2
 },
 "nbformat": 4,
 "nbformat_minor": 2
}